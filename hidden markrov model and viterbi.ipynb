{
 "cells": [
  {
   "cell_type": "code",
   "execution_count": 1,
   "metadata": {
    "id": "65So2OsWRTDN"
   },
   "outputs": [],
   "source": [
    "import spacy\n",
    "from collections import Counter\n",
    "from spacy import displacy\n",
    "nlp = spacy.load('en_core_web_sm')"
   ]
  },
  {
   "cell_type": "code",
   "execution_count": 3,
   "metadata": {
    "colab": {
     "base_uri": "https://localhost:8080/"
    },
    "id": "AQ-Dh2DoqxfX",
    "outputId": "dd2c2d8f-ec88-4c6d-eaf6-83d7d3377111"
   },
   "outputs": [
    {
     "name": "stdout",
     "output_type": "stream",
     "text": [
      "Mounted at /content/drive\n"
     ]
    }
   ],
   "source": [
    "from google.colab import drive\n",
    "drive.mount('/content/drive')"
   ]
  },
  {
   "cell_type": "code",
   "execution_count": 4,
   "metadata": {
    "colab": {
     "base_uri": "https://localhost:8080/"
    },
    "id": "36265RDhQfgW",
    "outputId": "478e577e-2edf-4348-b126-2f1ff62e1d14"
   },
   "outputs": [
    {
     "name": "stdout",
     "output_type": "stream",
     "text": [
      "NLP NNP is nsubj\n",
      "is VBZ is ROOT\n",
      "a DT course det\n",
      "fun NN course amod\n",
      "course NN is attr\n"
     ]
    }
   ],
   "source": [
    "text = 'NLP is a fun course'\n",
    "doc = nlp(text)\n",
    "for token in doc:\n",
    "  print (token.text, token.tag_, token.head.text, token.dep_)"
   ]
  },
  {
   "cell_type": "code",
   "execution_count": 9,
   "metadata": {
    "colab": {
     "base_uri": "https://localhost:8080/",
     "height": 420
    },
    "id": "aE3x2GWrRdVg",
    "outputId": "17f3210a-4746-4cbf-eb2a-4c5dc653aa67"
   },
   "outputs": [
    {
     "data": {
      "text/html": [
       "<span class=\"tex2jax_ignore\"><svg xmlns=\"http://www.w3.org/2000/svg\" xmlns:xlink=\"http://www.w3.org/1999/xlink\" xml:lang=\"en\" id=\"33aba7324716462c8cbe7f6b6bfda216-0\" class=\"displacy\" width=\"925\" height=\"399.5\" direction=\"ltr\" style=\"max-width: none; height: 399.5px; color: #000000; background: #ffffff; font-family: Arial; direction: ltr\">\n",
       "<text class=\"displacy-token\" fill=\"currentColor\" text-anchor=\"middle\" y=\"309.5\">\n",
       "    <tspan class=\"displacy-word\" fill=\"currentColor\" x=\"50\">NLP</tspan>\n",
       "    <tspan class=\"displacy-tag\" dy=\"2em\" fill=\"currentColor\" x=\"50\">PROPN</tspan>\n",
       "</text>\n",
       "\n",
       "<text class=\"displacy-token\" fill=\"currentColor\" text-anchor=\"middle\" y=\"309.5\">\n",
       "    <tspan class=\"displacy-word\" fill=\"currentColor\" x=\"225\">is</tspan>\n",
       "    <tspan class=\"displacy-tag\" dy=\"2em\" fill=\"currentColor\" x=\"225\">AUX</tspan>\n",
       "</text>\n",
       "\n",
       "<text class=\"displacy-token\" fill=\"currentColor\" text-anchor=\"middle\" y=\"309.5\">\n",
       "    <tspan class=\"displacy-word\" fill=\"currentColor\" x=\"400\">a</tspan>\n",
       "    <tspan class=\"displacy-tag\" dy=\"2em\" fill=\"currentColor\" x=\"400\">DET</tspan>\n",
       "</text>\n",
       "\n",
       "<text class=\"displacy-token\" fill=\"currentColor\" text-anchor=\"middle\" y=\"309.5\">\n",
       "    <tspan class=\"displacy-word\" fill=\"currentColor\" x=\"575\">fun</tspan>\n",
       "    <tspan class=\"displacy-tag\" dy=\"2em\" fill=\"currentColor\" x=\"575\">NOUN</tspan>\n",
       "</text>\n",
       "\n",
       "<text class=\"displacy-token\" fill=\"currentColor\" text-anchor=\"middle\" y=\"309.5\">\n",
       "    <tspan class=\"displacy-word\" fill=\"currentColor\" x=\"750\">course</tspan>\n",
       "    <tspan class=\"displacy-tag\" dy=\"2em\" fill=\"currentColor\" x=\"750\">NOUN</tspan>\n",
       "</text>\n",
       "\n",
       "<g class=\"displacy-arrow\">\n",
       "    <path class=\"displacy-arc\" id=\"arrow-33aba7324716462c8cbe7f6b6bfda216-0-0\" stroke-width=\"2px\" d=\"M70,264.5 C70,177.0 215.0,177.0 215.0,264.5\" fill=\"none\" stroke=\"currentColor\"/>\n",
       "    <text dy=\"1.25em\" style=\"font-size: 0.8em; letter-spacing: 1px\">\n",
       "        <textPath xlink:href=\"#arrow-33aba7324716462c8cbe7f6b6bfda216-0-0\" class=\"displacy-label\" startOffset=\"50%\" side=\"left\" fill=\"currentColor\" text-anchor=\"middle\">nsubj</textPath>\n",
       "    </text>\n",
       "    <path class=\"displacy-arrowhead\" d=\"M70,266.5 L62,254.5 78,254.5\" fill=\"currentColor\"/>\n",
       "</g>\n",
       "\n",
       "<g class=\"displacy-arrow\">\n",
       "    <path class=\"displacy-arc\" id=\"arrow-33aba7324716462c8cbe7f6b6bfda216-0-1\" stroke-width=\"2px\" d=\"M420,264.5 C420,89.5 745.0,89.5 745.0,264.5\" fill=\"none\" stroke=\"currentColor\"/>\n",
       "    <text dy=\"1.25em\" style=\"font-size: 0.8em; letter-spacing: 1px\">\n",
       "        <textPath xlink:href=\"#arrow-33aba7324716462c8cbe7f6b6bfda216-0-1\" class=\"displacy-label\" startOffset=\"50%\" side=\"left\" fill=\"currentColor\" text-anchor=\"middle\">det</textPath>\n",
       "    </text>\n",
       "    <path class=\"displacy-arrowhead\" d=\"M420,266.5 L412,254.5 428,254.5\" fill=\"currentColor\"/>\n",
       "</g>\n",
       "\n",
       "<g class=\"displacy-arrow\">\n",
       "    <path class=\"displacy-arc\" id=\"arrow-33aba7324716462c8cbe7f6b6bfda216-0-2\" stroke-width=\"2px\" d=\"M595,264.5 C595,177.0 740.0,177.0 740.0,264.5\" fill=\"none\" stroke=\"currentColor\"/>\n",
       "    <text dy=\"1.25em\" style=\"font-size: 0.8em; letter-spacing: 1px\">\n",
       "        <textPath xlink:href=\"#arrow-33aba7324716462c8cbe7f6b6bfda216-0-2\" class=\"displacy-label\" startOffset=\"50%\" side=\"left\" fill=\"currentColor\" text-anchor=\"middle\">amod</textPath>\n",
       "    </text>\n",
       "    <path class=\"displacy-arrowhead\" d=\"M595,266.5 L587,254.5 603,254.5\" fill=\"currentColor\"/>\n",
       "</g>\n",
       "\n",
       "<g class=\"displacy-arrow\">\n",
       "    <path class=\"displacy-arc\" id=\"arrow-33aba7324716462c8cbe7f6b6bfda216-0-3\" stroke-width=\"2px\" d=\"M245,264.5 C245,2.0 750.0,2.0 750.0,264.5\" fill=\"none\" stroke=\"currentColor\"/>\n",
       "    <text dy=\"1.25em\" style=\"font-size: 0.8em; letter-spacing: 1px\">\n",
       "        <textPath xlink:href=\"#arrow-33aba7324716462c8cbe7f6b6bfda216-0-3\" class=\"displacy-label\" startOffset=\"50%\" side=\"left\" fill=\"currentColor\" text-anchor=\"middle\">attr</textPath>\n",
       "    </text>\n",
       "    <path class=\"displacy-arrowhead\" d=\"M750.0,266.5 L758.0,254.5 742.0,254.5\" fill=\"currentColor\"/>\n",
       "</g>\n",
       "</svg></span>"
      ],
      "text/plain": [
       "<IPython.core.display.HTML object>"
      ]
     },
     "metadata": {},
     "output_type": "display_data"
    }
   ],
   "source": [
    "# [TODO1]: render the dependency tree with displacy\n",
    "# displacy.render(...)\n",
    "\n",
    "displacy.render(doc, style='dep', jupyter=True)"
   ]
  },
  {
   "cell_type": "markdown",
   "metadata": {
    "id": "JLVOYohqrP_B"
   },
   "source": [
    "## Dependency tree parsing: Extract Opinions from Customer Reviews\n",
    "The dataset consists of 1000 rows and 2 columns. Review Column consist of customer reviews and like column consist of 0 and 1. If the review is positive, 1 and if negative, 0."
   ]
  },
  {
   "cell_type": "code",
   "execution_count": 10,
   "metadata": {
    "colab": {
     "base_uri": "https://localhost:8080/",
     "height": 206
    },
    "id": "hKGHwdaccFmJ",
    "outputId": "63481543-4a62-4230-d10d-8575234ef317"
   },
   "outputs": [
    {
     "data": {
      "text/html": [
       "\n",
       "  <div id=\"df-c782b021-3d9d-4a68-b122-393980217bdb\">\n",
       "    <div class=\"colab-df-container\">\n",
       "      <div>\n",
       "<style scoped>\n",
       "    .dataframe tbody tr th:only-of-type {\n",
       "        vertical-align: middle;\n",
       "    }\n",
       "\n",
       "    .dataframe tbody tr th {\n",
       "        vertical-align: top;\n",
       "    }\n",
       "\n",
       "    .dataframe thead th {\n",
       "        text-align: right;\n",
       "    }\n",
       "</style>\n",
       "<table border=\"1\" class=\"dataframe\">\n",
       "  <thead>\n",
       "    <tr style=\"text-align: right;\">\n",
       "      <th></th>\n",
       "      <th>Review</th>\n",
       "      <th>Liked</th>\n",
       "    </tr>\n",
       "  </thead>\n",
       "  <tbody>\n",
       "    <tr>\n",
       "      <th>0</th>\n",
       "      <td>Wow... Loved this place.</td>\n",
       "      <td>1</td>\n",
       "    </tr>\n",
       "    <tr>\n",
       "      <th>1</th>\n",
       "      <td>Crust is not good.</td>\n",
       "      <td>0</td>\n",
       "    </tr>\n",
       "    <tr>\n",
       "      <th>2</th>\n",
       "      <td>Not tasty and the texture was just nasty.</td>\n",
       "      <td>0</td>\n",
       "    </tr>\n",
       "    <tr>\n",
       "      <th>3</th>\n",
       "      <td>Stopped by during the late May bank holiday of...</td>\n",
       "      <td>1</td>\n",
       "    </tr>\n",
       "    <tr>\n",
       "      <th>4</th>\n",
       "      <td>The selection on the menu was great and so wer...</td>\n",
       "      <td>1</td>\n",
       "    </tr>\n",
       "  </tbody>\n",
       "</table>\n",
       "</div>\n",
       "      <button class=\"colab-df-convert\" onclick=\"convertToInteractive('df-c782b021-3d9d-4a68-b122-393980217bdb')\"\n",
       "              title=\"Convert this dataframe to an interactive table.\"\n",
       "              style=\"display:none;\">\n",
       "        \n",
       "  <svg xmlns=\"http://www.w3.org/2000/svg\" height=\"24px\"viewBox=\"0 0 24 24\"\n",
       "       width=\"24px\">\n",
       "    <path d=\"M0 0h24v24H0V0z\" fill=\"none\"/>\n",
       "    <path d=\"M18.56 5.44l.94 2.06.94-2.06 2.06-.94-2.06-.94-.94-2.06-.94 2.06-2.06.94zm-11 1L8.5 8.5l.94-2.06 2.06-.94-2.06-.94L8.5 2.5l-.94 2.06-2.06.94zm10 10l.94 2.06.94-2.06 2.06-.94-2.06-.94-.94-2.06-.94 2.06-2.06.94z\"/><path d=\"M17.41 7.96l-1.37-1.37c-.4-.4-.92-.59-1.43-.59-.52 0-1.04.2-1.43.59L10.3 9.45l-7.72 7.72c-.78.78-.78 2.05 0 2.83L4 21.41c.39.39.9.59 1.41.59.51 0 1.02-.2 1.41-.59l7.78-7.78 2.81-2.81c.8-.78.8-2.07 0-2.86zM5.41 20L4 18.59l7.72-7.72 1.47 1.35L5.41 20z\"/>\n",
       "  </svg>\n",
       "      </button>\n",
       "      \n",
       "  <style>\n",
       "    .colab-df-container {\n",
       "      display:flex;\n",
       "      flex-wrap:wrap;\n",
       "      gap: 12px;\n",
       "    }\n",
       "\n",
       "    .colab-df-convert {\n",
       "      background-color: #E8F0FE;\n",
       "      border: none;\n",
       "      border-radius: 50%;\n",
       "      cursor: pointer;\n",
       "      display: none;\n",
       "      fill: #1967D2;\n",
       "      height: 32px;\n",
       "      padding: 0 0 0 0;\n",
       "      width: 32px;\n",
       "    }\n",
       "\n",
       "    .colab-df-convert:hover {\n",
       "      background-color: #E2EBFA;\n",
       "      box-shadow: 0px 1px 2px rgba(60, 64, 67, 0.3), 0px 1px 3px 1px rgba(60, 64, 67, 0.15);\n",
       "      fill: #174EA6;\n",
       "    }\n",
       "\n",
       "    [theme=dark] .colab-df-convert {\n",
       "      background-color: #3B4455;\n",
       "      fill: #D2E3FC;\n",
       "    }\n",
       "\n",
       "    [theme=dark] .colab-df-convert:hover {\n",
       "      background-color: #434B5C;\n",
       "      box-shadow: 0px 1px 3px 1px rgba(0, 0, 0, 0.15);\n",
       "      filter: drop-shadow(0px 1px 2px rgba(0, 0, 0, 0.3));\n",
       "      fill: #FFFFFF;\n",
       "    }\n",
       "  </style>\n",
       "\n",
       "      <script>\n",
       "        const buttonEl =\n",
       "          document.querySelector('#df-c782b021-3d9d-4a68-b122-393980217bdb button.colab-df-convert');\n",
       "        buttonEl.style.display =\n",
       "          google.colab.kernel.accessAllowed ? 'block' : 'none';\n",
       "\n",
       "        async function convertToInteractive(key) {\n",
       "          const element = document.querySelector('#df-c782b021-3d9d-4a68-b122-393980217bdb');\n",
       "          const dataTable =\n",
       "            await google.colab.kernel.invokeFunction('convertToInteractive',\n",
       "                                                     [key], {});\n",
       "          if (!dataTable) return;\n",
       "\n",
       "          const docLinkHtml = 'Like what you see? Visit the ' +\n",
       "            '<a target=\"_blank\" href=https://colab.research.google.com/notebooks/data_table.ipynb>data table notebook</a>'\n",
       "            + ' to learn more about interactive tables.';\n",
       "          element.innerHTML = '';\n",
       "          dataTable['output_type'] = 'display_data';\n",
       "          await google.colab.output.renderOutput(dataTable, element);\n",
       "          const docLink = document.createElement('div');\n",
       "          docLink.innerHTML = docLinkHtml;\n",
       "          element.appendChild(docLink);\n",
       "        }\n",
       "      </script>\n",
       "    </div>\n",
       "  </div>\n",
       "  "
      ],
      "text/plain": [
       "                                              Review  Liked\n",
       "0                           Wow... Loved this place.      1\n",
       "1                                 Crust is not good.      0\n",
       "2          Not tasty and the texture was just nasty.      0\n",
       "3  Stopped by during the late May bank holiday of...      1\n",
       "4  The selection on the menu was great and so wer...      1"
      ]
     },
     "execution_count": 10,
     "metadata": {},
     "output_type": "execute_result"
    }
   ],
   "source": [
    "import pandas as pd\n",
    "df = pd.read_csv('https://raw.githubusercontent.com/yilihsu/NLP110/main/Customer_Reviews.tsv', sep=\"\\t\")\n",
    "df.head()"
   ]
  },
  {
   "cell_type": "code",
   "execution_count": 11,
   "metadata": {
    "id": "XIN3SERxk4k4"
   },
   "outputs": [],
   "source": [
    "df['spacy_doc'] = list(nlp.pipe(df.Review))\n",
    "df_positive = df[df.Liked == 1]\n",
    "df_negative = df[df.Liked == 0]"
   ]
  },
  {
   "cell_type": "code",
   "execution_count": 12,
   "metadata": {
    "colab": {
     "base_uri": "https://localhost:8080/"
    },
    "id": "CJ2zJzWpisx6",
    "outputId": "1de541f8-173c-4703-9528-0e6ef1274710",
    "scrolled": true
   },
   "outputs": [
    {
     "name": "stdout",
     "output_type": "stream",
     "text": [
      "adj in positive reviews\n",
      "['late', 'great', 'great', 'great', 'prompt', 'amazing', 'cute', 'less', 'beautiful', 'right', 'red', 'ohhh', 'good', 'great', 'Mexican', 'friendly', 'decent', 'happier', 'only', 'inexpensive', 'Ample', 'good', 'first', 'positive', 'attentive', 'great', 'only', 'prime', 'good', 'Greek', 'tasty', 'refreshing', 'pink', 'tender', 'nice', 'good', 'huge', 'friendly', 'great', 'wonderful', 'imaginative', 'right', 'handmade', 'delicious', 'glad', 'Great', 'huge', 'military', 'great', 'second', 'amazing', 'great', 'good', 'sweet', 'good', 'seasoned', 'second', 'good', 'yummy', 'amazing', 'fresh', 'delicious', 'sexy', 'hottest', 'Best', 'up', 'good', 'fantastic', 'only', 'good', 'helpful', 'Best', 'tender', 'delicious', 'better', 'fantastic', 'delicious', 'attentive', 'personable', 'great', 'wonderful', 'next', 'good', 'fantastic', 'worth', 'Nice', 'tender', 'Good', 'fine', 'friendly', 'best', 'worst', 'best', 'good', 'Phenomenal', 'worth', 'next', 'excellent', 'good', 'massive', 'delish', 'tasty', 'good', 'real', 'good', 'other', 'solid', 'best', 'empty', 'great', 'Nice', 'subpar', 'clean', 'great', 'Great', 'friendly', 'clean', 'different', 'other', 'wonderful', 'tender', 'first', 'excellent', 'free', 'several', 'good', 'diverse', 'full', 'best', 'salty', 'Vegas', 'fine', 'friendly', 'terrific', 'amazing', 'vegetarian', 'modern', 'weekly', 'healthy', 'incredible', 'Interesting', 'hot', 'top', 'original', 'good', 'delicious', 'fantastic', 'satisfied', 'best', 'tasty', 'friendly', 'worth', 'good', 'great', 'Great', 'friendly', 'good', 'delish', 'yukon', 'white', 'beateous', 'Tasty', 'good', 'Jamaican', 'delicious', 'rich', 'unbelievable', 'welcome', 'special', 'amazing', 'wonderful', 'fun', 'Great', 'hardest', 'amazing', 'attentive', 'excellent', 'flavourful', 'flavorful', 'better', 'other', 'dark', 'great', 'creamy', 'flavorful', 'good', 'tasty', 'Fantastic', 'exquisite', 'Good', 'clean', 'inexpensive', 'fresh', 'generous', 'delicious', 'good', 'more', 'Veggitarian', 'wrong', 'friendly', 'kind', 'friendly', 'good', 'outstanding', 'amazing', 'great', 'delish', 'incredible', 'soooo', 'delicious', 'fresh', 'worth', 'excellent', 'good', 'Good', 'good', 'charming', 'outdoor', 'delightful', 'good', 'Fantastic', 'good', 'Great', 'high', 'good', 'lighter', 'reasonable', 'old', 'full', 'happy', 'wrong', 'exceptional', 'amazing', 'Favorite', 'black', 'eyed', 'sweet', 'better', 'overall', 'good', 'good', 'glad', 'fantastic', 'Great', 'delicioso', 'best', 'great', 'fresh', 'authentic', 'worth', 'good', 'Classy', 'warm', 'fresh', 'succulent', 'oven', 'multiple', 'delicious', 'special', 'delicious', 'good', 'pleasant', 'enthusiastic', 'real', 'wonderful', 'Best', 'next', 'nice', 'Outstanding', 'little', 'Best', 'great', 'large', 'rowdy', 'great', 'great', 'tiny', 'comfortable', 'usual', 'Eggplant', 'Best', 'interesting', 'amazing', 'great', 'next', 'healthy', 'authentic', 'ethic', 'several', 'great', 'happy', 'first', 'excellent', 'reasonable', 'incredible', 'pneumatic', 'great', 'perfect', 'nice', 'impeccable', 'Great', 'little', 'first', 'more', 'possible', 'good', 'full', 'petty', 'fantastic', 'best', 'iced', 'hungry', 'happy', 'First', 'regular', 'nice', 'little', 'overwhelmed', 'professional', 'friendly', 'fresh', 'nice', 'good', 'nicest', 'quick', 'friendly', 'dark', 'spicy', 'delicious', 'familiar', 'wonderful', 'different', 'delicious', 'big', 'delicious', 'spicy', 'sure', 'great', 'gooodd', 'good', 'mouthful', 'enjoyable', 'relaxed', 'small', 'great', 'Best', 'creamy', 'smooth', 'profiterole', 'fresh', 'new', 'nice', 'clean', 'outstanding', 'reasonable', 'first', 'only', 'good', 'Great', 'small', 'fine', 'extraordinary', 'white', 'awesome', 'many', 'much', 'good', 'daily', 'good', 'large', 'first', 'crawfish', 'delicious', 'favorite', 'sweet', 'funny', 'multi', '-', 'grain', 'amazing', 'fluffy', 'delicious', 'enough', 'good', 'incredible', 'friendly', 'much', 'thin', 'happy', 'perfect', 'good', 'typical', 'first', 'lovely', 'nice', 'clean', 'friendly', 'amazing', 'sure', 'first', 'next', 'nice', 'good', 'tasty', 'best', 'authentic', 'Mexican', 'whole', 'interesting', 'delicious', 'excellent', 'new', 'experienced', 'Great', 'great', 'great', 'amazing', 'best', 'amazing', 'yellowtail', 'melt', 'fresh', 'spicy', 'Perfect', 'Last', 'second', 'happy', 'first', 'recent', 'pleased', 'wrong', 'donut', 'Nice', 'delicious', 'good', 'great', 'huge', 'Generous', 'great', 'delicious', 'excellent', 'nice', 'many', 'good', 'better', 'friendly', 'efficient', 'quick', 'nice', 'Great', 'great', 'clean', 'friendly', 'great', 'beautiful', 'giant', 'powdered', 'Great', 'friendly', 'happy', 'extra', 'regular', 'BEST', 'best', 'Good', 'great', 'great', 'satisfying', 'good', 'awesome', 'disappointed', 'absolute', 'amazing', 'good', 'tender', 'yellow', 'awesome', 'perfect', 'friendly', 'helpful', 'cool', 'small', 'blue', 'great', 'roast', 'good', 'High', 'dead', 'wrong', 'great', 'fast', 'impeccable', 'good', 'good', 'attentive', 'friendly', 'informative', 'Great', 'Great', 'awesome', 'PERFECT', 'few', 'comfortable', 'favorite', 'Italian', 'rare', 'great', 'lovely', 'amazing', 'convenient', 'friendly', 'courteous', 'great', 'Eclectic', 'sweet', 'good', 'close', 'attentive', 'generous', 'similar', 'great', 'double', 'Awesome', 'fantastic', 'great', 'amazing', 'good', 'great', 'Damn', 'good', 'reasonable', 'nice', 'pleasant', 'amazing', 'best', 'Good', 'good', 'amazing', 'excellent', 'good', 'awesome', 'nice', 'attentive', 'other', 'friendly', 'quick', 'pleased', 'legit', 'Italian', 'Large', 'Great', 'simple', 'homemade', 'nice', 'simple', 'honest', 'perfect', 'outside', 'moist', 'great', 'Special', 'yummy', 'Awesome', 'Great', 'awesome', 'nice', 'larger', 'more', 'tasty', 'good', 'Nicest', 'Chinese', 'Indian', 'spicy', 'pine', 'tasty', 'speedy', 'friendly', 'Chinese', 'clean', 'warm', 'special', 'extensive', 'vegetarian', 'wide', 'Wonderful', 'warm', 'fuzzy', 'fabulous', 'thin', 'thick', 'perfect', 'GREAT', 'soooo', 'good', 'good', 'good', 'good', 'happy', 'few', 'amazing', 'close', 'low', 'key', 'non', '-', 'fancy', 'affordable', 'good', 'Great', 'amazing', 'good', 'satifying', 'awesome', 'Perfect', 'cold', 'colder', 'many', 'nice', 'quick', 'crazy', 'Great', 'friendly', 'fast', 'huge', 'classic', 'fantastic', 'good', 'last', 'good', 'fresh', 'great', 'impressed', 'friendly', 'nice', 'golden', 'devine', 'best', 'first', 'amazing', 'awesome', 'yummy', 'seasonal', 'fresh', 'white', 'nice', 'little', 'delicate', 'thin', 'moist', 'Best', 'good', 'friendly', 'excellent', 'great', 'good', 'last', 'awesome', 'great', 'flavorful', 'perfect', 'reasonable', 'great', 'happy', 'great', 'pricey', 'good', 'nice', 'little', 'great', 'awesome', 'light', 'healthy', 'great', 'excellent', 'great', 'unique', 'beautiful', 'delightful', 'authentic', 'Japanese', 'cool', 'hot', 'least', 'great', 'perfect', 'good', 'good', 'great', 'regular', 'satisfying', 'occasional', 'amazing', 'new', 'professional']\n",
      "adj in negative reviews\n",
      "['good', 'tasty', 'nasty', 'angry', 'damn', 'fresh', 'warmer', 'overpriced', 'disgusted', 'sure', 'human', 'little', 'slow', 'worth', 'overwhelmed', 'worst', 'final', 'good', 'quick', 'familiar', 'Poor', 'stupid', 'good', 'Hard', 'good', 'sick', 'Frozen', 'worst', 'bad', 'generic', 'horrible', 'much', 'petrified', 'tasteless', 'least', 'chewy', 'meh', 'more', 'common', 'scallop', 'appalling', 'Bad', 'good', 'eating', 'underwhelming', 'other', 'old', 'bland', 'sugary', 'old', 'poor', 'unsatisfying', 'disappointing', 'good', 'honest', 'good', 'least', 'busy', 'gross', 'better', 'hard', 'actual', 'disappointing', 'blandest', 'Indian', 'Worst', 'least', 'better', 'bad', 'mediocre', 'rude', 'rude', 'many', 'other', 'helpful', 'friendly', 'disappointed', 'red', 'much', 'tasty', 'slow', 'little', 'slow', 'slow', 'more', 'other', 'stale', 'impressed', 'good', 'bad', 'sad', 'off', 'other', 'bland', 'more', 'sure', 'best', 'hot', 'live', 'warm', 'first', 'last', 'WORST', 'off', 'sure', 'other', 'good', 'small', 'worth', 'outside', 'full', 'nude', 'lacking', 'cold', 'enough', 'bad', 'uninspired', 'bad', 'worst', 'annoying', 'drunk', 'double', 'single', 'possible', 'spicy', 'sure', 'empty', 'busy', 'cold', 'other', 'close', 'sub', '-', 'par', 'privileged', 'most', 'similar', 'possible', 'tough', 'short', 'more', 'few', 'disappointed', 'better', 'dedicated', 'bland', 'wrong', 'better', 'disappointed', 'many', 'other', 'slow', 'disappointed', 'convenient', 'third', 'sad', 'many', 'boring', 'greedy', 'atrocious', 'English', 'untoasted', 'other', 'rude', 'only', 'worst', 'many', 'sick', 'few', 'pleasant', 'gross', 'dirty-', 'yucky', 'disappointed', 'authentic', 'special', 'worst', 'terrible', 'next', 'small', 'BLAND', 'despicable', 'lukewarm', 'sick', 'more', 'mediocre', 'friendly', 'horrible', 'first', 'terrible', 'MANY', 'few', 'disappointed', 'frustrated', 'TOTAL', 'little', 'bad', 'grossed', 'large', 'huge', 'awkward', 'lb', 'fat', 'special', 'tasteless', 'good', 'bad', 'bad', 'insulted', 'last', 'bad', 'driest', 'worth', 'worst', 'due', 'Total', 'cold', 'fresh', 'best', 'long', 'good', 'Worse', 'horrible', 'impressed', 'lettuce', 'Terrible', 'disappointed', 'unhealthy', 'first', 'last', 'expensive', 'Terrible', 'Worst', 'vacant', 'only', 'empty', 'right', 'strange', 'off', 'disgraceful', 'recent', 'particular', 'good', 'other', 'hard', 'bland', 'disgusting', 'several', 'complete', 'poor', 'other', 'old', 'super', 'good', 'disappointed', 'dry', 'authentic', 'cheap', 'black', 'NASTY', 'tasteless', 'pale', 'nice', 'driest', 'damn', 'good', 'soooooo', 'impressed', 'ok', 'cold', 'soggy', 'rare', 'bland', 'disappointing', 'Best', 'rude', 'non', '-', 'customer', 'new', 'roasted', 'multiple', 'Same', 'sick', 'greatest', 'cold', 'edible', 'bad', 'average', 'much', 'fried', 'dry', 'worst', 'slow', 'attentive', 'more', 'Total', 'honest', 'slow', 'much', 'amazing', 'Needless', 'more', 'dripping', 'edible', 'impressed', 'famous', 'terrible', 'old', 'new', 'few', 'lukewarm', 'bad', 'fried', 'sure', 'long', 'impressed', 'good', 'smaller', 'Main', 'older', 'mid', 'poor', 'nice', 'clean', 'stale', 'OK', 'bad', 'poor', 'soggy', 'tasteless', 'tasty', 'real', 'traditional', 'slow', 'frozen', 'sugary', 'dirty', 'bad', 'good', 'good', 'tepid', 'meh', 'hot', 'good', 'same', 'sick', 'Mediocre', 'super', 'sad', 'little', 'overcooked', 'high', 'flat', 'flat', 'single', 'OK', 'negligent', 'unwelcome', 'terrible', 'consistent', 'terrible', 'worse', 'worse', 'Awful', 'horrible', 'few', 'fair', 'best', 'poor', 'average', 'worth', 'terrible', 'such', 'bland', 'small', 'better', 'dirty', 'worst', 'Bad', 'low', 'rude', 'nice', 'polite', 'huevos', 'appealing', 'Worst', 'Hot', 'hot', 'cold', 'close', 'BARE', 'more', 'high', 'slow', 'worst', 'Weird', 'better', 'good', 'amazing', 'doughy', 'long', 'terrible', 'mediocre', 'warm', 'frozen', 'different', 'bloodiest', 'slow', 'Worst', 'unprofessional', 'rude', 'loyal', 'correct', 'disappointing', 'many', 'unexperienced', 'sad', 'impressed', 'only', 'crazy', 'puréed', 'better', 'fresh', 'warm', 'hilarious', 'yummy', 'biggest', 'entire', 'Needless', 'disgusting', 'much', 'edible', 'bad', 'Disappointing', 'good', 'mediocre', 'downright', 'terrible', 'clean', 'worth', 'full', 'ridiculous', 'dry', 'neat', 'trippy', 'awful', 'slow', 'good', 'bland', 'undercooked', 'chipolte', 'tasteless', 'thin', 'sweet', 'spicy', 'disappointed', 'horrible', 'Vegetarian', 'average', 'busy', 'dirty', 'friendly', 'helpful', 'more', 'indoor', 'spotty', 'hot', 'cold', 'real', 'rude', 'bad', 'only', 'profound', 'combo', 'disappointed', 'nasty', 'possible', 'hard', 'decent', 'better', 'next', 'big', 'better', 'disapppointment', 'good', 'pretty', 'bad', 'few', 'brownish', 'fresh', 'average', 'little', 'bigger', 'better', 'more', 'ice', 'cold', 'undercooked', 'dry', 'impressive', 'crusty', 'bland', 'live', 'green', 'awful', 'disappointed', 'impressed', 'whole', 'underwhelming', 'next', 'enough']\n"
     ]
    }
   ],
   "source": [
    "# [TODO2] : count the top-10 common adj in the reviews]\n",
    "#positive_adj = list all of adj in the positive reviews (df_positive)\n",
    "positive_adj = [token.text for doc in df_positive.spacy_doc \n",
    "           for token in doc if token.pos_=='ADJ']\n",
    "print(\"adj in positive reviews\")\n",
    "print(positive_adj)\n",
    "#negative_adj = list all of adj in the negative reviews (df_negative)\n",
    "negative_adj = [token.text for doc in df_negative.spacy_doc \n",
    "           for token in doc if token.pos_=='ADJ']\n",
    "print(\"adj in negative reviews\")\n",
    "print(negative_adj)"
   ]
  },
  {
   "cell_type": "code",
   "execution_count": 13,
   "metadata": {
    "colab": {
     "base_uri": "https://localhost:8080/"
    },
    "id": "RkOnG3FTnTFP",
    "outputId": "b5bf3fd2-0db1-413e-bd03-ad8830cab8ce"
   },
   "outputs": [
    {
     "name": "stdout",
     "output_type": "stream",
     "text": [
      "Top-10 adj in positive reviews\n"
     ]
    },
    {
     "data": {
      "text/plain": [
       "[('good', 66),\n",
       " ('great', 49),\n",
       " ('friendly', 24),\n",
       " ('amazing', 22),\n",
       " ('nice', 18),\n",
       " ('delicious', 18),\n",
       " ('Great', 17),\n",
       " ('best', 12),\n",
       " ('first', 10),\n",
       " ('fresh', 10)]"
      ]
     },
     "execution_count": 13,
     "metadata": {},
     "output_type": "execute_result"
    }
   ],
   "source": [
    "print(\"Top-10 adj in positive reviews\")\n",
    "Counter(positive_adj).most_common(10)"
   ]
  },
  {
   "cell_type": "code",
   "execution_count": null,
   "metadata": {
    "colab": {
     "base_uri": "https://localhost:8080/"
    },
    "id": "jYW4rmtcnic_",
    "outputId": "95d67daa-0c0b-43b9-88f8-50bd54678a42"
   },
   "outputs": [
    {
     "name": "stdout",
     "output_type": "stream",
     "text": [
      "Top-10 adj in negative reviews\n"
     ]
    },
    {
     "data": {
      "text/plain": [
       "[('good', 22),\n",
       " ('bad', 16),\n",
       " ('slow', 11),\n",
       " ('disappointed', 11),\n",
       " ('other', 10),\n",
       " ('better', 10),\n",
       " ('worst', 9),\n",
       " ('more', 8),\n",
       " ('bland', 8),\n",
       " ('cold', 8)]"
      ]
     },
     "execution_count": 9,
     "metadata": {},
     "output_type": "execute_result"
    }
   ],
   "source": [
    "print(\"Top-10 adj in negative reviews\")\n",
    "Counter(negative_adj).most_common(10)"
   ]
  },
  {
   "cell_type": "code",
   "execution_count": null,
   "metadata": {
    "colab": {
     "base_uri": "https://localhost:8080/"
    },
    "id": "9T5LEfTpnwIg",
    "outputId": "1372c97c-8976-40ca-e420-12596388f8c6"
   },
   "outputs": [
    {
     "name": "stdout",
     "output_type": "stream",
     "text": [
      "-----------------------------------------------------\n",
      "Adj describing food in positive reviews\n",
      "['amazing', 'great', 'great', 'good', 'phenomenal', 'fantastic', 'great', 'healthy', 'authentic', 'typical', 'authentic', 'mexican', 'great', 'great', 'great', 'good', 'good', 'great', 'tasty', 'good']\n",
      "\n",
      "Top-10 Adj describing food in positive reviews\n",
      "[('great', 7), ('good', 4), ('authentic', 2), ('amazing', 1), ('phenomenal', 1), ('fantastic', 1), ('healthy', 1), ('typical', 1), ('mexican', 1), ('tasty', 1)]\n",
      "-----------------------------------------------------\n",
      "Adj describing service in positive reviews\n",
      "['great', 'excellent', 'fantastic', 'good', 'clean', 'fantastic', 'great', 'excellent', 'great', 'great', 'good', 'awesome', 'speedy', 'friendly', 'best', 'great', 'great', 'perfect']\n",
      "\n",
      "Top-10 Adj describing service in positive reviews\n",
      "[('great', 6), ('excellent', 2), ('fantastic', 2), ('good', 2), ('clean', 1), ('awesome', 1), ('speedy', 1), ('friendly', 1), ('best', 1), ('perfect', 1)]\n",
      "-----------------------------------------------------\n"
     ]
    }
   ],
   "source": [
    "noun_strings = [\"food\", \"service\"]\n",
    "# Consider every noun in the noun strings,\n",
    "# extract a list of adjectives modifying this noun\n",
    "for noun in noun_strings:\n",
    "  amod_list = []\n",
    "  #[TODO3]: extract a list of adjectives modifying this noun (amod)\n",
    "  for doc in df_positive.spacy_doc :\n",
    "      for token in doc:\n",
    "        if (token.text) == noun:\n",
    "          for child in token.children: \n",
    "            if child.dep_ == 'amod':\n",
    "              amod_list.append(child.text.lower())\n",
    "  print(\"-----------------------------------------------------\")\n",
    "  print(\"Adj describing \" + noun + \" in positive reviews\")\n",
    "  print(amod_list)\n",
    "  print(\"\")\n",
    "  print(\"Top-10 Adj describing \" + noun + \" in positive reviews\")\n",
    "  print(Counter(amod_list).most_common(10))\n",
    "\n",
    "print(\"-----------------------------------------------------\")"
   ]
  },
  {
   "cell_type": "markdown",
   "metadata": {
    "id": "F7nxC8j9IOEZ"
   },
   "source": [
    "# Hidden Markov Models\n",
    "Let's take weather as an example.\n",
    "![markov.png](data:image/png;base64,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)\n",
    "\n",
    "From the above image, the transition matrix can be obtained:\n",
    "\n",
    "$M = \\left( \\begin{array}{ccc} .6 & .3 & .1 \\\\ .3 & .5 & .2 \\\\ .1 & .3 & .6 \\end{array}\\right)$\n",
    "\n",
    "If we have no information about the recent weather, then from the past statistics, we assume 35% of the time it\n",
    "is hot, 37.5% it is warm and 27.5% it is cold. This will be the initial probabilities\n",
    "\n",
    "$\\pi = \\left( \\begin{array}{c} .350 \\\\ .375 \\\\ .275 \\end{array} \\right)$"
   ]
  },
  {
   "cell_type": "markdown",
   "metadata": {
    "id": "b80E6XM4IReo"
   },
   "source": [
    "# Add Observations\n",
    "What do we do according to the weather? When the weather is hot, we have 50% chance of eating ice cream, and when the weather is warm, we have 20% chance eating ice cream ... as for the weather is cold, we get only 10% chance of eatning ice cream.\n",
    "\n",
    "![下載.png](data:image/png;base64,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)\n",
    "\n",
    "\n",
    "### Can we figure out what happened from observations? \n",
    "i.e., can we know the weather from an \"ice cream eating history\"?\n",
    "\n",
    "![sequence.png](data:image/png;base64,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)\n",
    "\n",
    "Given a sequence of observations $o_1 o_2 \\ldots o_t$ can we ...\n",
    "\n",
    "\n",
    "*  **Filter** Find $P(q_t | o_1 o_2 \\ldots o_t)$  (i.e. What's going on now) \n",
    "*  **Predict** Find $P(q_{t+k} | o_1 o_2 \\ldots o_t)$ (i.e. What's going to happen)\n",
    "*  **Smooth** Find $P(q_k | o_1 o_2 \\ldots o_t)$ for $1 \\le k < t$ (i.e. What happened knowning the full observation sequence) \n",
    "*  **Explain** What is the most likely sequence of state $q_1 q_2 \\ldots q_t$ given the observations $o_1 o_2 \\ldots o_t$\n",
    "*  **Learn** Find the HMM just from a sequence of observations\n",
    "\n"
   ]
  },
  {
   "cell_type": "markdown",
   "metadata": {
    "id": "MRM8MZPvIT0n"
   },
   "source": [
    "# Let's try HMM in NLP application!\n",
    "We implement HMM for POS tagging task. To better understand the task formulation, the following information may be useful.\n",
    "\n",
    "**Observation:** token in each sentence\n",
    "\n",
    "**Hidden state:** the POS tag\n",
    "\n",
    "**Emission probability:** the probability for a word to be in a particular class of POS tag\n",
    "\n",
    "**Transition probability:** the probability of a POS followed by another POS. For example, what are the chances of a noun followed by a verb?\n",
    "\n",
    "**Goal:** Given observation (sentence without POS tag), find the hidden states (the POS tag corresponding to the input sentence).\n"
   ]
  },
  {
   "cell_type": "code",
   "execution_count": null,
   "metadata": {
    "colab": {
     "base_uri": "https://localhost:8080/"
    },
    "id": "Ks8K7G1_IVMJ",
    "outputId": "2699beb1-6cec-406c-9084-20d86f3cadb0"
   },
   "outputs": [
    {
     "name": "stderr",
     "output_type": "stream",
     "text": [
      "[nltk_data] Downloading package treebank to /root/nltk_data...\n",
      "[nltk_data]   Unzipping corpora/treebank.zip.\n",
      "[nltk_data] Downloading package universal_tagset to /root/nltk_data...\n",
      "[nltk_data]   Unzipping taggers/universal_tagset.zip.\n"
     ]
    },
    {
     "name": "stdout",
     "output_type": "stream",
     "text": [
      "[[('Pierre', 'NOUN'), ('Vinken', 'NOUN'), (',', '.'), ('61', 'NUM'), ('years', 'NOUN'), ('old', 'ADJ'), (',', '.'), ('will', 'VERB'), ('join', 'VERB'), ('the', 'DET'), ('board', 'NOUN'), ('as', 'ADP'), ('a', 'DET'), ('nonexecutive', 'ADJ'), ('director', 'NOUN'), ('Nov.', 'NOUN'), ('29', 'NUM'), ('.', '.')], [('Mr.', 'NOUN'), ('Vinken', 'NOUN'), ('is', 'VERB'), ('chairman', 'NOUN'), ('of', 'ADP'), ('Elsevier', 'NOUN'), ('N.V.', 'NOUN'), (',', '.'), ('the', 'DET'), ('Dutch', 'NOUN'), ('publishing', 'VERB'), ('group', 'NOUN'), ('.', '.')]]\n"
     ]
    }
   ],
   "source": [
    "# Importing libraries\n",
    "import nltk\n",
    "import numpy as np\n",
    "import pandas as pd\n",
    "import random\n",
    "from sklearn.model_selection import train_test_split\n",
    "import pprint, time\n",
    " \n",
    "#download the treebank corpus from nltk\n",
    "nltk.download('treebank')\n",
    " \n",
    "#download the universal tagset from nltk\n",
    "nltk.download('universal_tagset')\n",
    " \n",
    "# reading the Treebank tagged sentences\n",
    "nltk_data = list(nltk.corpus.treebank.tagged_sents(tagset='universal'))\n",
    " \n",
    "#print the first two sentences along with tags\n",
    "print(nltk_data[:2])"
   ]
  },
  {
   "cell_type": "code",
   "execution_count": null,
   "metadata": {
    "id": "wN5lkxZAIViU"
   },
   "outputs": [],
   "source": [
    "# split data into training and validation set in the ratio 80:20\n",
    "train_set, test_set =train_test_split(nltk_data,train_size=0.80,test_size=0.20,random_state = 101)"
   ]
  },
  {
   "cell_type": "code",
   "execution_count": null,
   "metadata": {
    "colab": {
     "base_uri": "https://localhost:8080/"
    },
    "id": "9ReIVfzKIXEv",
    "outputId": "bd574aed-aff4-4a95-fa1c-cb4b7633aed0"
   },
   "outputs": [
    {
     "name": "stdout",
     "output_type": "stream",
     "text": [
      "size of training set: 80310\n",
      "size of testing set: 20366\n"
     ]
    }
   ],
   "source": [
    "# create list of train and test tagged words\n",
    "train_tagged_words = [ tup for sent in train_set for tup in sent ]\n",
    "test_tagged_words = [ tup for sent in test_set for tup in sent ]\n",
    "print(f\"size of training set: {len(train_tagged_words)}\")\n",
    "print(f\"size of testing set: {len(test_tagged_words)}\") # we don't actually use all of them when testing."
   ]
  },
  {
   "cell_type": "code",
   "execution_count": null,
   "metadata": {
    "colab": {
     "base_uri": "https://localhost:8080/"
    },
    "id": "seiMe4itIX4i",
    "outputId": "6caed9da-5ac0-47c5-d71b-edc81644390f"
   },
   "outputs": [
    {
     "name": "stdout",
     "output_type": "stream",
     "text": [
      "number of different tags in the training data: 12\n",
      "{'DET', 'PRON', 'CONJ', 'NUM', 'ADV', '.', 'ADJ', 'NOUN', 'X', 'VERB', 'PRT', 'ADP'}\n"
     ]
    }
   ],
   "source": [
    "#use set datatype to check how many unique tags are present in training data\n",
    "tags = {tag for word,tag in train_tagged_words}\n",
    "print(f\"number of different tags in the training data: {len(tags)}\")\n",
    "print(tags)\n",
    " \n",
    "# check total words in vocabulary\n",
    "vocab = {word for word,tag in train_tagged_words}"
   ]
  },
  {
   "cell_type": "code",
   "execution_count": null,
   "metadata": {
    "id": "HlvkvKI7IYyg"
   },
   "outputs": [],
   "source": [
    "# compute emission probability\n",
    "def word_given_tag(word, tag, train_bag = train_tagged_words):\n",
    "    '''\n",
    "    word: a given token\n",
    "    tag: a given tag\n",
    "    train_bag: the training data, list of tuple. e.g. [('Drink', 'NOUN'), ('Carrier', 'NOUN') ... ]\n",
    "    return: the probability for the given word to be in the given POS tag\n",
    "    '''\n",
    "    tag_list = [pair for pair in train_bag if pair[1]==tag]\n",
    "\n",
    "    count_tag = len(tag_list) # total number of times the passed tag occurred in train_bag\n",
    "    w_given_tag_list = [pair[0] for pair in tag_list if pair[0]==word]\n",
    "\n",
    "\n",
    "    # [TODO4]: calculate the total length of w_given_tag_list\n",
    "    # count_w_given_tag = len(...)\n",
    "    count_w_given_tag = len(w_given_tag_list)\n",
    "    # [TODO5]: calculate the emission probability\n",
    "    # emission_prob = the number of (word given the tag) / (the number of tag)\n",
    "    emission_prob = count_w_given_tag / count_tag\n",
    "    return emission_prob"
   ]
  },
  {
   "cell_type": "code",
   "execution_count": null,
   "metadata": {
    "id": "iW-8KozhIZoo"
   },
   "outputs": [],
   "source": [
    "# compute transition probability\n",
    "def t2_given_t1(t2, t1, train_bag = train_tagged_words):\n",
    "    tags = [pair[1] for pair in train_bag]\n",
    "    count_t1 = len([t for t in tags if t==t1])\n",
    "    count_t2_t1 = 0\n",
    "\n",
    "    for index in range(len(tags)-1):\n",
    "      # [TODO6]: calculate count_t2_t1, which is the number of tag t2 given tag t1.\n",
    "        if tags[index]==t1 and tags[index+1] == t2:\n",
    "            count_t2_t1 += 1\n",
    "\n",
    "     # [TODO7]: calculate the transmission probability\n",
    "    transition_prob = count_t2_t1/count_t1\n",
    "    return transition_prob"
   ]
  },
  {
   "cell_type": "code",
   "execution_count": null,
   "metadata": {
    "colab": {
     "base_uri": "https://localhost:8080/",
     "height": 426
    },
    "id": "LGo7A0XJb1lJ",
    "outputId": "4b4497aa-42eb-4d12-f2d3-10e8fe45d625"
   },
   "outputs": [
    {
     "data": {
      "text/html": [
       "\n",
       "  <div id=\"df-35c18be1-11e0-4277-9a08-852b86f1cf42\">\n",
       "    <div class=\"colab-df-container\">\n",
       "      <div>\n",
       "<style scoped>\n",
       "    .dataframe tbody tr th:only-of-type {\n",
       "        vertical-align: middle;\n",
       "    }\n",
       "\n",
       "    .dataframe tbody tr th {\n",
       "        vertical-align: top;\n",
       "    }\n",
       "\n",
       "    .dataframe thead th {\n",
       "        text-align: right;\n",
       "    }\n",
       "</style>\n",
       "<table border=\"1\" class=\"dataframe\">\n",
       "  <thead>\n",
       "    <tr style=\"text-align: right;\">\n",
       "      <th></th>\n",
       "      <th>DET</th>\n",
       "      <th>PRON</th>\n",
       "      <th>CONJ</th>\n",
       "      <th>NUM</th>\n",
       "      <th>ADV</th>\n",
       "      <th>.</th>\n",
       "      <th>ADJ</th>\n",
       "      <th>NOUN</th>\n",
       "      <th>X</th>\n",
       "      <th>VERB</th>\n",
       "      <th>PRT</th>\n",
       "      <th>ADP</th>\n",
       "    </tr>\n",
       "  </thead>\n",
       "  <tbody>\n",
       "    <tr>\n",
       "      <th>6.20</th>\n",
       "      <td>0.000000</td>\n",
       "      <td>0.000000</td>\n",
       "      <td>0.000000</td>\n",
       "      <td>0.000000</td>\n",
       "      <td>0.000000</td>\n",
       "      <td>0.000000</td>\n",
       "      <td>0.000000</td>\n",
       "      <td>0.000000</td>\n",
       "      <td>0.000000</td>\n",
       "      <td>0.000000</td>\n",
       "      <td>0.000000</td>\n",
       "      <td>0.000000</td>\n",
       "    </tr>\n",
       "    <tr>\n",
       "      <th>*T*-197</th>\n",
       "      <td>0.000000</td>\n",
       "      <td>0.000000</td>\n",
       "      <td>0.000000</td>\n",
       "      <td>0.000000</td>\n",
       "      <td>0.000000</td>\n",
       "      <td>0.000000</td>\n",
       "      <td>0.000000</td>\n",
       "      <td>0.000000</td>\n",
       "      <td>0.000000</td>\n",
       "      <td>0.000000</td>\n",
       "      <td>0.000000</td>\n",
       "      <td>0.000000</td>\n",
       "    </tr>\n",
       "    <tr>\n",
       "      <th>sphere</th>\n",
       "      <td>0.000000</td>\n",
       "      <td>0.000000</td>\n",
       "      <td>0.000000</td>\n",
       "      <td>0.000000</td>\n",
       "      <td>0.000000</td>\n",
       "      <td>0.000000</td>\n",
       "      <td>0.000000</td>\n",
       "      <td>0.000000</td>\n",
       "      <td>0.000000</td>\n",
       "      <td>0.000000</td>\n",
       "      <td>0.000000</td>\n",
       "      <td>0.000000</td>\n",
       "    </tr>\n",
       "    <tr>\n",
       "      <th>3.5</th>\n",
       "      <td>0.000357</td>\n",
       "      <td>0.000000</td>\n",
       "      <td>0.000000</td>\n",
       "      <td>0.001071</td>\n",
       "      <td>0.000000</td>\n",
       "      <td>0.000000</td>\n",
       "      <td>0.000000</td>\n",
       "      <td>0.000000</td>\n",
       "      <td>0.000000</td>\n",
       "      <td>0.000357</td>\n",
       "      <td>0.000000</td>\n",
       "      <td>0.000000</td>\n",
       "    </tr>\n",
       "    <tr>\n",
       "      <th>liquid</th>\n",
       "      <td>0.000000</td>\n",
       "      <td>0.000000</td>\n",
       "      <td>0.000000</td>\n",
       "      <td>0.000000</td>\n",
       "      <td>0.000000</td>\n",
       "      <td>0.000000</td>\n",
       "      <td>0.000000</td>\n",
       "      <td>0.000000</td>\n",
       "      <td>0.000000</td>\n",
       "      <td>0.000000</td>\n",
       "      <td>0.000000</td>\n",
       "      <td>0.000000</td>\n",
       "    </tr>\n",
       "    <tr>\n",
       "      <th>Fair</th>\n",
       "      <td>0.000000</td>\n",
       "      <td>0.000000</td>\n",
       "      <td>0.000000</td>\n",
       "      <td>0.000000</td>\n",
       "      <td>0.000000</td>\n",
       "      <td>0.000000</td>\n",
       "      <td>0.000000</td>\n",
       "      <td>0.000000</td>\n",
       "      <td>0.000000</td>\n",
       "      <td>0.000000</td>\n",
       "      <td>0.000000</td>\n",
       "      <td>0.000000</td>\n",
       "    </tr>\n",
       "    <tr>\n",
       "      <th>totaled</th>\n",
       "      <td>0.000000</td>\n",
       "      <td>0.000000</td>\n",
       "      <td>0.000000</td>\n",
       "      <td>0.000000</td>\n",
       "      <td>0.000000</td>\n",
       "      <td>0.000000</td>\n",
       "      <td>0.000000</td>\n",
       "      <td>0.000000</td>\n",
       "      <td>0.000000</td>\n",
       "      <td>0.000000</td>\n",
       "      <td>0.000194</td>\n",
       "      <td>0.000000</td>\n",
       "    </tr>\n",
       "    <tr>\n",
       "      <th>X</th>\n",
       "      <td>0.000000</td>\n",
       "      <td>0.000000</td>\n",
       "      <td>0.000087</td>\n",
       "      <td>0.000000</td>\n",
       "      <td>0.000044</td>\n",
       "      <td>0.000087</td>\n",
       "      <td>0.000000</td>\n",
       "      <td>0.000087</td>\n",
       "      <td>0.000044</td>\n",
       "      <td>0.000000</td>\n",
       "      <td>0.000000</td>\n",
       "      <td>0.000044</td>\n",
       "    </tr>\n",
       "    <tr>\n",
       "      <th>Deregulation</th>\n",
       "      <td>0.000000</td>\n",
       "      <td>0.000192</td>\n",
       "      <td>0.000000</td>\n",
       "      <td>0.000000</td>\n",
       "      <td>0.000000</td>\n",
       "      <td>0.000000</td>\n",
       "      <td>0.000000</td>\n",
       "      <td>0.000000</td>\n",
       "      <td>0.000000</td>\n",
       "      <td>0.000000</td>\n",
       "      <td>0.000000</td>\n",
       "      <td>0.000000</td>\n",
       "    </tr>\n",
       "    <tr>\n",
       "      <th>1614</th>\n",
       "      <td>0.000000</td>\n",
       "      <td>0.000000</td>\n",
       "      <td>0.000000</td>\n",
       "      <td>0.000000</td>\n",
       "      <td>0.000000</td>\n",
       "      <td>0.000000</td>\n",
       "      <td>0.000829</td>\n",
       "      <td>0.000000</td>\n",
       "      <td>0.000000</td>\n",
       "      <td>0.000000</td>\n",
       "      <td>0.000000</td>\n",
       "      <td>0.000000</td>\n",
       "    </tr>\n",
       "    <tr>\n",
       "      <th>bottom-line</th>\n",
       "      <td>0.000000</td>\n",
       "      <td>0.000000</td>\n",
       "      <td>0.000000</td>\n",
       "      <td>0.000000</td>\n",
       "      <td>0.000000</td>\n",
       "      <td>0.000000</td>\n",
       "      <td>0.000000</td>\n",
       "      <td>0.000000</td>\n",
       "      <td>0.000000</td>\n",
       "      <td>0.000000</td>\n",
       "      <td>0.000000</td>\n",
       "      <td>0.000000</td>\n",
       "    </tr>\n",
       "    <tr>\n",
       "      <th>disclosures</th>\n",
       "      <td>0.000000</td>\n",
       "      <td>0.000000</td>\n",
       "      <td>0.000000</td>\n",
       "      <td>0.000000</td>\n",
       "      <td>0.000000</td>\n",
       "      <td>0.000000</td>\n",
       "      <td>0.000000</td>\n",
       "      <td>0.000000</td>\n",
       "      <td>0.000000</td>\n",
       "      <td>0.000000</td>\n",
       "      <td>0.000000</td>\n",
       "      <td>0.000000</td>\n",
       "    </tr>\n",
       "  </tbody>\n",
       "</table>\n",
       "</div>\n",
       "      <button class=\"colab-df-convert\" onclick=\"convertToInteractive('df-35c18be1-11e0-4277-9a08-852b86f1cf42')\"\n",
       "              title=\"Convert this dataframe to an interactive table.\"\n",
       "              style=\"display:none;\">\n",
       "        \n",
       "  <svg xmlns=\"http://www.w3.org/2000/svg\" height=\"24px\"viewBox=\"0 0 24 24\"\n",
       "       width=\"24px\">\n",
       "    <path d=\"M0 0h24v24H0V0z\" fill=\"none\"/>\n",
       "    <path d=\"M18.56 5.44l.94 2.06.94-2.06 2.06-.94-2.06-.94-.94-2.06-.94 2.06-2.06.94zm-11 1L8.5 8.5l.94-2.06 2.06-.94-2.06-.94L8.5 2.5l-.94 2.06-2.06.94zm10 10l.94 2.06.94-2.06 2.06-.94-2.06-.94-.94-2.06-.94 2.06-2.06.94z\"/><path d=\"M17.41 7.96l-1.37-1.37c-.4-.4-.92-.59-1.43-.59-.52 0-1.04.2-1.43.59L10.3 9.45l-7.72 7.72c-.78.78-.78 2.05 0 2.83L4 21.41c.39.39.9.59 1.41.59.51 0 1.02-.2 1.41-.59l7.78-7.78 2.81-2.81c.8-.78.8-2.07 0-2.86zM5.41 20L4 18.59l7.72-7.72 1.47 1.35L5.41 20z\"/>\n",
       "  </svg>\n",
       "      </button>\n",
       "      \n",
       "  <style>\n",
       "    .colab-df-container {\n",
       "      display:flex;\n",
       "      flex-wrap:wrap;\n",
       "      gap: 12px;\n",
       "    }\n",
       "\n",
       "    .colab-df-convert {\n",
       "      background-color: #E8F0FE;\n",
       "      border: none;\n",
       "      border-radius: 50%;\n",
       "      cursor: pointer;\n",
       "      display: none;\n",
       "      fill: #1967D2;\n",
       "      height: 32px;\n",
       "      padding: 0 0 0 0;\n",
       "      width: 32px;\n",
       "    }\n",
       "\n",
       "    .colab-df-convert:hover {\n",
       "      background-color: #E2EBFA;\n",
       "      box-shadow: 0px 1px 2px rgba(60, 64, 67, 0.3), 0px 1px 3px 1px rgba(60, 64, 67, 0.15);\n",
       "      fill: #174EA6;\n",
       "    }\n",
       "\n",
       "    [theme=dark] .colab-df-convert {\n",
       "      background-color: #3B4455;\n",
       "      fill: #D2E3FC;\n",
       "    }\n",
       "\n",
       "    [theme=dark] .colab-df-convert:hover {\n",
       "      background-color: #434B5C;\n",
       "      box-shadow: 0px 1px 3px 1px rgba(0, 0, 0, 0.15);\n",
       "      filter: drop-shadow(0px 1px 2px rgba(0, 0, 0, 0.3));\n",
       "      fill: #FFFFFF;\n",
       "    }\n",
       "  </style>\n",
       "\n",
       "      <script>\n",
       "        const buttonEl =\n",
       "          document.querySelector('#df-35c18be1-11e0-4277-9a08-852b86f1cf42 button.colab-df-convert');\n",
       "        buttonEl.style.display =\n",
       "          google.colab.kernel.accessAllowed ? 'block' : 'none';\n",
       "\n",
       "        async function convertToInteractive(key) {\n",
       "          const element = document.querySelector('#df-35c18be1-11e0-4277-9a08-852b86f1cf42');\n",
       "          const dataTable =\n",
       "            await google.colab.kernel.invokeFunction('convertToInteractive',\n",
       "                                                     [key], {});\n",
       "          if (!dataTable) return;\n",
       "\n",
       "          const docLinkHtml = 'Like what you see? Visit the ' +\n",
       "            '<a target=\"_blank\" href=https://colab.research.google.com/notebooks/data_table.ipynb>data table notebook</a>'\n",
       "            + ' to learn more about interactive tables.';\n",
       "          element.innerHTML = '';\n",
       "          dataTable['output_type'] = 'display_data';\n",
       "          await google.colab.output.renderOutput(dataTable, element);\n",
       "          const docLink = document.createElement('div');\n",
       "          docLink.innerHTML = docLinkHtml;\n",
       "          element.appendChild(docLink);\n",
       "        }\n",
       "      </script>\n",
       "    </div>\n",
       "  </div>\n",
       "  "
      ],
      "text/plain": [
       "                   DET      PRON      CONJ       NUM       ADV         .  \\\n",
       "6.20          0.000000  0.000000  0.000000  0.000000  0.000000  0.000000   \n",
       "*T*-197       0.000000  0.000000  0.000000  0.000000  0.000000  0.000000   \n",
       "sphere        0.000000  0.000000  0.000000  0.000000  0.000000  0.000000   \n",
       "3.5           0.000357  0.000000  0.000000  0.001071  0.000000  0.000000   \n",
       "liquid        0.000000  0.000000  0.000000  0.000000  0.000000  0.000000   \n",
       "Fair          0.000000  0.000000  0.000000  0.000000  0.000000  0.000000   \n",
       "totaled       0.000000  0.000000  0.000000  0.000000  0.000000  0.000000   \n",
       "X             0.000000  0.000000  0.000087  0.000000  0.000044  0.000087   \n",
       "Deregulation  0.000000  0.000192  0.000000  0.000000  0.000000  0.000000   \n",
       "1614          0.000000  0.000000  0.000000  0.000000  0.000000  0.000000   \n",
       "bottom-line   0.000000  0.000000  0.000000  0.000000  0.000000  0.000000   \n",
       "disclosures   0.000000  0.000000  0.000000  0.000000  0.000000  0.000000   \n",
       "\n",
       "                   ADJ      NOUN         X      VERB       PRT       ADP  \n",
       "6.20          0.000000  0.000000  0.000000  0.000000  0.000000  0.000000  \n",
       "*T*-197       0.000000  0.000000  0.000000  0.000000  0.000000  0.000000  \n",
       "sphere        0.000000  0.000000  0.000000  0.000000  0.000000  0.000000  \n",
       "3.5           0.000000  0.000000  0.000000  0.000357  0.000000  0.000000  \n",
       "liquid        0.000000  0.000000  0.000000  0.000000  0.000000  0.000000  \n",
       "Fair          0.000000  0.000000  0.000000  0.000000  0.000000  0.000000  \n",
       "totaled       0.000000  0.000000  0.000000  0.000000  0.000194  0.000000  \n",
       "X             0.000000  0.000087  0.000044  0.000000  0.000000  0.000044  \n",
       "Deregulation  0.000000  0.000000  0.000000  0.000000  0.000000  0.000000  \n",
       "1614          0.000829  0.000000  0.000000  0.000000  0.000000  0.000000  \n",
       "bottom-line   0.000000  0.000000  0.000000  0.000000  0.000000  0.000000  \n",
       "disclosures   0.000000  0.000000  0.000000  0.000000  0.000000  0.000000  "
      ]
     },
     "metadata": {},
     "output_type": "display_data"
    }
   ],
   "source": [
    "# creating t x w emission matrix of tags, t = number of tags, w = number of words\n",
    "# matrix(i, j) represents P(jth tag after the ith tag)\n",
    " \n",
    "emission_matrix = np.zeros((len(tags), len(list(vocab)[:12])), dtype='float32')\n",
    "for i, t in enumerate(list(tags)):\n",
    "    for j, word in enumerate(list(vocab)[:12]): \n",
    "        emission_matrix[i, j] = word_given_tag(word, t)\n",
    "\n",
    "# convert the matrix to a df for better readability\n",
    "emission_matrix_df = pd.DataFrame(emission_matrix, columns = list(tags), index=list(list(vocab)[:12]))\n",
    "display(emission_matrix_df)"
   ]
  },
  {
   "cell_type": "code",
   "execution_count": null,
   "metadata": {
    "id": "ho2RSTTxIolG"
   },
   "outputs": [],
   "source": [
    "tags_matrix = np.zeros((len(tags), len(tags)), dtype='float32')\n",
    "for i, t1 in enumerate(list(tags)):\n",
    "    for j, t2 in enumerate(list(tags)): \n",
    "        tags_matrix[i, j] = t2_given_t1(t2, t1)"
   ]
  },
  {
   "cell_type": "code",
   "execution_count": null,
   "metadata": {
    "id": "JHty05K6IaAf"
   },
   "outputs": [],
   "source": [
    "# creating t x t transition matrix of tags, t = number of tags, i.e. 12\n",
    "# matrix(i, j) represents P(jth tag after the ith tag)\n",
    " \n",
    "transition_matrix = np.zeros((len(tags), len(tags)), dtype='float32')\n",
    "for i, t1 in enumerate(list(tags)):\n",
    "    for j, t2 in enumerate(list(tags)): \n",
    "        transition_matrix[i, j] = t2_given_t1(t2, t1)"
   ]
  },
  {
   "cell_type": "code",
   "execution_count": null,
   "metadata": {
    "colab": {
     "base_uri": "https://localhost:8080/",
     "height": 426
    },
    "id": "yXdQShzdIbAG",
    "outputId": "a608ff8c-d992-40e3-9a69-58f4e418e104"
   },
   "outputs": [
    {
     "data": {
      "text/html": [
       "\n",
       "  <div id=\"df-bfa74284-ed4e-4bbf-b053-4521083ec6a9\">\n",
       "    <div class=\"colab-df-container\">\n",
       "      <div>\n",
       "<style scoped>\n",
       "    .dataframe tbody tr th:only-of-type {\n",
       "        vertical-align: middle;\n",
       "    }\n",
       "\n",
       "    .dataframe tbody tr th {\n",
       "        vertical-align: top;\n",
       "    }\n",
       "\n",
       "    .dataframe thead th {\n",
       "        text-align: right;\n",
       "    }\n",
       "</style>\n",
       "<table border=\"1\" class=\"dataframe\">\n",
       "  <thead>\n",
       "    <tr style=\"text-align: right;\">\n",
       "      <th></th>\n",
       "      <th>DET</th>\n",
       "      <th>PRON</th>\n",
       "      <th>CONJ</th>\n",
       "      <th>NUM</th>\n",
       "      <th>ADV</th>\n",
       "      <th>.</th>\n",
       "      <th>ADJ</th>\n",
       "      <th>NOUN</th>\n",
       "      <th>X</th>\n",
       "      <th>VERB</th>\n",
       "      <th>PRT</th>\n",
       "      <th>ADP</th>\n",
       "    </tr>\n",
       "  </thead>\n",
       "  <tbody>\n",
       "    <tr>\n",
       "      <th>DET</th>\n",
       "      <td>0.006037</td>\n",
       "      <td>0.003306</td>\n",
       "      <td>0.000431</td>\n",
       "      <td>0.022855</td>\n",
       "      <td>0.012074</td>\n",
       "      <td>0.017393</td>\n",
       "      <td>0.206411</td>\n",
       "      <td>0.635906</td>\n",
       "      <td>0.045134</td>\n",
       "      <td>0.040247</td>\n",
       "      <td>0.000287</td>\n",
       "      <td>0.009918</td>\n",
       "    </tr>\n",
       "    <tr>\n",
       "      <th>PRON</th>\n",
       "      <td>0.009567</td>\n",
       "      <td>0.006834</td>\n",
       "      <td>0.005011</td>\n",
       "      <td>0.006834</td>\n",
       "      <td>0.036902</td>\n",
       "      <td>0.041913</td>\n",
       "      <td>0.070615</td>\n",
       "      <td>0.212756</td>\n",
       "      <td>0.088383</td>\n",
       "      <td>0.484738</td>\n",
       "      <td>0.014123</td>\n",
       "      <td>0.022323</td>\n",
       "    </tr>\n",
       "    <tr>\n",
       "      <th>CONJ</th>\n",
       "      <td>0.123491</td>\n",
       "      <td>0.060373</td>\n",
       "      <td>0.000549</td>\n",
       "      <td>0.040615</td>\n",
       "      <td>0.057080</td>\n",
       "      <td>0.035126</td>\n",
       "      <td>0.113611</td>\n",
       "      <td>0.349067</td>\n",
       "      <td>0.009330</td>\n",
       "      <td>0.150384</td>\n",
       "      <td>0.004391</td>\n",
       "      <td>0.055982</td>\n",
       "    </tr>\n",
       "    <tr>\n",
       "      <th>NUM</th>\n",
       "      <td>0.003570</td>\n",
       "      <td>0.001428</td>\n",
       "      <td>0.014281</td>\n",
       "      <td>0.184220</td>\n",
       "      <td>0.003570</td>\n",
       "      <td>0.119243</td>\n",
       "      <td>0.035345</td>\n",
       "      <td>0.351660</td>\n",
       "      <td>0.202428</td>\n",
       "      <td>0.020707</td>\n",
       "      <td>0.026062</td>\n",
       "      <td>0.037487</td>\n",
       "    </tr>\n",
       "    <tr>\n",
       "      <th>ADV</th>\n",
       "      <td>0.071373</td>\n",
       "      <td>0.012025</td>\n",
       "      <td>0.006982</td>\n",
       "      <td>0.029868</td>\n",
       "      <td>0.081458</td>\n",
       "      <td>0.139255</td>\n",
       "      <td>0.130721</td>\n",
       "      <td>0.032196</td>\n",
       "      <td>0.022886</td>\n",
       "      <td>0.339022</td>\n",
       "      <td>0.014740</td>\n",
       "      <td>0.119472</td>\n",
       "    </tr>\n",
       "    <tr>\n",
       "      <th>.</th>\n",
       "      <td>0.172192</td>\n",
       "      <td>0.068769</td>\n",
       "      <td>0.060079</td>\n",
       "      <td>0.078210</td>\n",
       "      <td>0.052569</td>\n",
       "      <td>0.092372</td>\n",
       "      <td>0.046132</td>\n",
       "      <td>0.218539</td>\n",
       "      <td>0.025641</td>\n",
       "      <td>0.089690</td>\n",
       "      <td>0.002789</td>\n",
       "      <td>0.092908</td>\n",
       "    </tr>\n",
       "    <tr>\n",
       "      <th>ADJ</th>\n",
       "      <td>0.005243</td>\n",
       "      <td>0.000194</td>\n",
       "      <td>0.016893</td>\n",
       "      <td>0.021748</td>\n",
       "      <td>0.005243</td>\n",
       "      <td>0.066019</td>\n",
       "      <td>0.063301</td>\n",
       "      <td>0.696893</td>\n",
       "      <td>0.020971</td>\n",
       "      <td>0.011456</td>\n",
       "      <td>0.011456</td>\n",
       "      <td>0.080583</td>\n",
       "    </tr>\n",
       "    <tr>\n",
       "      <th>NOUN</th>\n",
       "      <td>0.013106</td>\n",
       "      <td>0.004659</td>\n",
       "      <td>0.042454</td>\n",
       "      <td>0.009144</td>\n",
       "      <td>0.016895</td>\n",
       "      <td>0.240094</td>\n",
       "      <td>0.012584</td>\n",
       "      <td>0.262344</td>\n",
       "      <td>0.028825</td>\n",
       "      <td>0.149134</td>\n",
       "      <td>0.043935</td>\n",
       "      <td>0.176827</td>\n",
       "    </tr>\n",
       "    <tr>\n",
       "      <th>X</th>\n",
       "      <td>0.056890</td>\n",
       "      <td>0.054200</td>\n",
       "      <td>0.010379</td>\n",
       "      <td>0.003075</td>\n",
       "      <td>0.025754</td>\n",
       "      <td>0.160869</td>\n",
       "      <td>0.017682</td>\n",
       "      <td>0.061695</td>\n",
       "      <td>0.075726</td>\n",
       "      <td>0.206419</td>\n",
       "      <td>0.185086</td>\n",
       "      <td>0.142226</td>\n",
       "    </tr>\n",
       "    <tr>\n",
       "      <th>VERB</th>\n",
       "      <td>0.133610</td>\n",
       "      <td>0.035543</td>\n",
       "      <td>0.005433</td>\n",
       "      <td>0.022836</td>\n",
       "      <td>0.083886</td>\n",
       "      <td>0.034807</td>\n",
       "      <td>0.066390</td>\n",
       "      <td>0.110589</td>\n",
       "      <td>0.215930</td>\n",
       "      <td>0.167956</td>\n",
       "      <td>0.030663</td>\n",
       "      <td>0.092357</td>\n",
       "    </tr>\n",
       "    <tr>\n",
       "      <th>PRT</th>\n",
       "      <td>0.101370</td>\n",
       "      <td>0.017613</td>\n",
       "      <td>0.002348</td>\n",
       "      <td>0.056751</td>\n",
       "      <td>0.009393</td>\n",
       "      <td>0.045010</td>\n",
       "      <td>0.082975</td>\n",
       "      <td>0.250489</td>\n",
       "      <td>0.012133</td>\n",
       "      <td>0.401174</td>\n",
       "      <td>0.001174</td>\n",
       "      <td>0.019569</td>\n",
       "    </tr>\n",
       "    <tr>\n",
       "      <th>ADP</th>\n",
       "      <td>0.320931</td>\n",
       "      <td>0.069603</td>\n",
       "      <td>0.001012</td>\n",
       "      <td>0.063275</td>\n",
       "      <td>0.014553</td>\n",
       "      <td>0.038724</td>\n",
       "      <td>0.107062</td>\n",
       "      <td>0.323589</td>\n",
       "      <td>0.034548</td>\n",
       "      <td>0.008479</td>\n",
       "      <td>0.001266</td>\n",
       "      <td>0.016958</td>\n",
       "    </tr>\n",
       "  </tbody>\n",
       "</table>\n",
       "</div>\n",
       "      <button class=\"colab-df-convert\" onclick=\"convertToInteractive('df-bfa74284-ed4e-4bbf-b053-4521083ec6a9')\"\n",
       "              title=\"Convert this dataframe to an interactive table.\"\n",
       "              style=\"display:none;\">\n",
       "        \n",
       "  <svg xmlns=\"http://www.w3.org/2000/svg\" height=\"24px\"viewBox=\"0 0 24 24\"\n",
       "       width=\"24px\">\n",
       "    <path d=\"M0 0h24v24H0V0z\" fill=\"none\"/>\n",
       "    <path d=\"M18.56 5.44l.94 2.06.94-2.06 2.06-.94-2.06-.94-.94-2.06-.94 2.06-2.06.94zm-11 1L8.5 8.5l.94-2.06 2.06-.94-2.06-.94L8.5 2.5l-.94 2.06-2.06.94zm10 10l.94 2.06.94-2.06 2.06-.94-2.06-.94-.94-2.06-.94 2.06-2.06.94z\"/><path d=\"M17.41 7.96l-1.37-1.37c-.4-.4-.92-.59-1.43-.59-.52 0-1.04.2-1.43.59L10.3 9.45l-7.72 7.72c-.78.78-.78 2.05 0 2.83L4 21.41c.39.39.9.59 1.41.59.51 0 1.02-.2 1.41-.59l7.78-7.78 2.81-2.81c.8-.78.8-2.07 0-2.86zM5.41 20L4 18.59l7.72-7.72 1.47 1.35L5.41 20z\"/>\n",
       "  </svg>\n",
       "      </button>\n",
       "      \n",
       "  <style>\n",
       "    .colab-df-container {\n",
       "      display:flex;\n",
       "      flex-wrap:wrap;\n",
       "      gap: 12px;\n",
       "    }\n",
       "\n",
       "    .colab-df-convert {\n",
       "      background-color: #E8F0FE;\n",
       "      border: none;\n",
       "      border-radius: 50%;\n",
       "      cursor: pointer;\n",
       "      display: none;\n",
       "      fill: #1967D2;\n",
       "      height: 32px;\n",
       "      padding: 0 0 0 0;\n",
       "      width: 32px;\n",
       "    }\n",
       "\n",
       "    .colab-df-convert:hover {\n",
       "      background-color: #E2EBFA;\n",
       "      box-shadow: 0px 1px 2px rgba(60, 64, 67, 0.3), 0px 1px 3px 1px rgba(60, 64, 67, 0.15);\n",
       "      fill: #174EA6;\n",
       "    }\n",
       "\n",
       "    [theme=dark] .colab-df-convert {\n",
       "      background-color: #3B4455;\n",
       "      fill: #D2E3FC;\n",
       "    }\n",
       "\n",
       "    [theme=dark] .colab-df-convert:hover {\n",
       "      background-color: #434B5C;\n",
       "      box-shadow: 0px 1px 3px 1px rgba(0, 0, 0, 0.15);\n",
       "      filter: drop-shadow(0px 1px 2px rgba(0, 0, 0, 0.3));\n",
       "      fill: #FFFFFF;\n",
       "    }\n",
       "  </style>\n",
       "\n",
       "      <script>\n",
       "        const buttonEl =\n",
       "          document.querySelector('#df-bfa74284-ed4e-4bbf-b053-4521083ec6a9 button.colab-df-convert');\n",
       "        buttonEl.style.display =\n",
       "          google.colab.kernel.accessAllowed ? 'block' : 'none';\n",
       "\n",
       "        async function convertToInteractive(key) {\n",
       "          const element = document.querySelector('#df-bfa74284-ed4e-4bbf-b053-4521083ec6a9');\n",
       "          const dataTable =\n",
       "            await google.colab.kernel.invokeFunction('convertToInteractive',\n",
       "                                                     [key], {});\n",
       "          if (!dataTable) return;\n",
       "\n",
       "          const docLinkHtml = 'Like what you see? Visit the ' +\n",
       "            '<a target=\"_blank\" href=https://colab.research.google.com/notebooks/data_table.ipynb>data table notebook</a>'\n",
       "            + ' to learn more about interactive tables.';\n",
       "          element.innerHTML = '';\n",
       "          dataTable['output_type'] = 'display_data';\n",
       "          await google.colab.output.renderOutput(dataTable, element);\n",
       "          const docLink = document.createElement('div');\n",
       "          docLink.innerHTML = docLinkHtml;\n",
       "          element.appendChild(docLink);\n",
       "        }\n",
       "      </script>\n",
       "    </div>\n",
       "  </div>\n",
       "  "
      ],
      "text/plain": [
       "           DET      PRON      CONJ       NUM       ADV         .       ADJ  \\\n",
       "DET   0.006037  0.003306  0.000431  0.022855  0.012074  0.017393  0.206411   \n",
       "PRON  0.009567  0.006834  0.005011  0.006834  0.036902  0.041913  0.070615   \n",
       "CONJ  0.123491  0.060373  0.000549  0.040615  0.057080  0.035126  0.113611   \n",
       "NUM   0.003570  0.001428  0.014281  0.184220  0.003570  0.119243  0.035345   \n",
       "ADV   0.071373  0.012025  0.006982  0.029868  0.081458  0.139255  0.130721   \n",
       ".     0.172192  0.068769  0.060079  0.078210  0.052569  0.092372  0.046132   \n",
       "ADJ   0.005243  0.000194  0.016893  0.021748  0.005243  0.066019  0.063301   \n",
       "NOUN  0.013106  0.004659  0.042454  0.009144  0.016895  0.240094  0.012584   \n",
       "X     0.056890  0.054200  0.010379  0.003075  0.025754  0.160869  0.017682   \n",
       "VERB  0.133610  0.035543  0.005433  0.022836  0.083886  0.034807  0.066390   \n",
       "PRT   0.101370  0.017613  0.002348  0.056751  0.009393  0.045010  0.082975   \n",
       "ADP   0.320931  0.069603  0.001012  0.063275  0.014553  0.038724  0.107062   \n",
       "\n",
       "          NOUN         X      VERB       PRT       ADP  \n",
       "DET   0.635906  0.045134  0.040247  0.000287  0.009918  \n",
       "PRON  0.212756  0.088383  0.484738  0.014123  0.022323  \n",
       "CONJ  0.349067  0.009330  0.150384  0.004391  0.055982  \n",
       "NUM   0.351660  0.202428  0.020707  0.026062  0.037487  \n",
       "ADV   0.032196  0.022886  0.339022  0.014740  0.119472  \n",
       ".     0.218539  0.025641  0.089690  0.002789  0.092908  \n",
       "ADJ   0.696893  0.020971  0.011456  0.011456  0.080583  \n",
       "NOUN  0.262344  0.028825  0.149134  0.043935  0.176827  \n",
       "X     0.061695  0.075726  0.206419  0.185086  0.142226  \n",
       "VERB  0.110589  0.215930  0.167956  0.030663  0.092357  \n",
       "PRT   0.250489  0.012133  0.401174  0.001174  0.019569  \n",
       "ADP   0.323589  0.034548  0.008479  0.001266  0.016958  "
      ]
     },
     "metadata": {},
     "output_type": "display_data"
    }
   ],
   "source": [
    "# convert the matrix to a df for better readability\n",
    "transition_df = pd.DataFrame(transition_matrix, columns = list(tags), index=list(tags))\n",
    "display(transition_df)"
   ]
  },
  {
   "cell_type": "code",
   "execution_count": null,
   "metadata": {
    "id": "zRBVVK33Ib07"
   },
   "outputs": [],
   "source": [
    "def Viterbi(words, train_bag = train_tagged_words):\n",
    "    state = []\n",
    "    T = list(set([pair[1] for pair in train_bag]))\n",
    "     \n",
    "    for key, word in enumerate(words):\n",
    "        #initialise list of probability column for a given observation\n",
    "        p = [] \n",
    "        for tag in T:\n",
    "            if key == 0:\n",
    "                transition_p = transition_df.loc['.', tag]\n",
    "            else:\n",
    "                transition_p = transition_df.loc[state[-1], tag]\n",
    "                 \n",
    "            # compute emission and state probabilities\n",
    "            emission_p = word_given_tag(words[key], tag)\n",
    "            # Compute the state probability by multiplying emission probability and transition probability\n",
    "            state_probability = emission_p * transition_p    \n",
    "            p.append(state_probability)\n",
    "             \n",
    "        pmax = max(p)\n",
    "        # getting state for which probability is maximum\n",
    "        state_max = T[p.index(pmax)] \n",
    "        state.append(state_max)\n",
    "    return list(zip(words, state))"
   ]
  },
  {
   "cell_type": "code",
   "execution_count": null,
   "metadata": {
    "id": "yu20qrPWIcyD"
   },
   "outputs": [],
   "source": [
    "# Let's test our Viterbi algorithm on a few sample sentences of test dataset\n",
    "random.seed(1234)\n",
    " \n",
    "# choose random 10 numbers for test sample index\n",
    "# because testing all of them is time consuming.\n",
    "rndom = random.sample(range(len(test_set)), 10)\n",
    " \n",
    "# list of 10 sents on which we test the model\n",
    "sampled_data = [test_set[i] for i in rndom]\n",
    " \n",
    "# list of tagged words\n",
    "test_data_with_tag = [tup for sent in sampled_data for tup in sent]\n",
    " \n",
    "# list of untagged words\n",
    "test_data_without_tag = [tup[0] for sent in sampled_data for tup in sent]"
   ]
  },
  {
   "cell_type": "code",
   "execution_count": null,
   "metadata": {
    "colab": {
     "base_uri": "https://localhost:8080/"
    },
    "id": "GG8gJqDDIdpX",
    "outputId": "f3918db2-a423-48b6-eacf-04b4d1de6f3b"
   },
   "outputs": [
    {
     "name": "stdout",
     "output_type": "stream",
     "text": [
      "Time taken in seconds:  30.51\n",
      "Testing accuracy of HMM with Viterbi algorithm:  87.29\n"
     ]
    }
   ],
   "source": [
    "start = time.time()\n",
    "test_tagged_seq = Viterbi(test_data_without_tag, train_bag=train_tagged_words)\n",
    "end = time.time()\n",
    "difference = round(end-start, 2)\n",
    "print(\"Time taken in seconds: \", difference)\n",
    " \n",
    "# testing accuracy\n",
    "num_correct = [i for i, j in zip(test_data_with_tag, test_tagged_seq) if i == j] \n",
    "accuracy = len(num_correct)/len(test_tagged_seq)\n",
    "print('Testing accuracy of HMM with Viterbi algorithm: ', round(accuracy*100, 2))"
   ]
  },
  {
   "cell_type": "code",
   "execution_count": null,
   "metadata": {
    "colab": {
     "base_uri": "https://localhost:8080/"
    },
    "id": "f5b9TCKrhkTa",
    "outputId": "d61995b4-77ba-46f2-f9f0-4b65e4d4b162",
    "scrolled": true
   },
   "outputs": [
    {
     "name": "stdout",
     "output_type": "stream",
     "text": [
      "[('Newsweek', 'NOUN'), (\"'s\", 'PRT'), ('circulation', 'NOUN'), ('for', 'ADP'), ('the', 'DET'), ('first', 'ADJ'), ('six', 'NUM'), ('months', 'NOUN'), ('of', 'ADP'), ('1989', 'NUM'), ('was', 'VERB'), ('3,288,453', 'DET'), (',', '.'), ('*-1', 'X'), ('flat', 'ADJ'), ('from', 'ADP'), ('the', 'DET'), ('same', 'ADJ'), ('period', 'NOUN'), ('last', 'ADJ'), ('year', 'NOUN'), ('.', '.'), ('Roederer', 'NOUN'), ('Cristal', 'NOUN'), ('at', 'ADP'), ('$', '.'), ('90', 'NUM'), ('*U*', 'X'), ('a', 'DET'), ('bottle', 'NOUN'), ('sells', 'VERB'), ('out', 'PRT'), ('around', 'ADP'), ('the', 'DET'), ('country', 'NOUN'), ('and', 'CONJ'), ('Taittinger', 'DET'), (\"'s\", 'VERB'), ('Comtes', 'DET'), ('de', 'X'), ('Champagne', 'NOUN'), ('Blanc', 'DET'), ('de', 'X'), ('Blancs', 'DET'), ('is', 'VERB'), ('encroaching', 'DET'), ('upon', 'ADP'), ('that', 'DET'), ('level', 'NOUN'), ('.', '.'), ('In', 'ADP'), ('*-2', 'X'), ('ending', 'VERB'), ('Hungary', 'NOUN'), (\"'s\", 'PRT'), ('part', 'NOUN'), ('of', 'ADP'), ('the', 'DET'), ('project', 'NOUN'), (',', '.'), ('Parliament', 'NOUN'), ('authorized', 'DET'), ('Prime', 'NOUN'), ('Minister', 'NOUN'), ('Miklos', 'DET'), ('Nemeth', 'DET'), ('to', 'PRT'), ('modify', 'VERB'), ('a', 'DET'), ('1977', 'NUM'), ('agreement', 'NOUN'), ('with', 'ADP'), ('Czechoslovakia', 'NOUN'), (',', '.'), ('which', 'DET'), ('*T*-64', 'X'), ('still', 'ADV'), ('wants', 'VERB'), ('the', 'DET'), ('dam', 'NOUN'), ('to', 'PRT'), ('be', 'VERB'), ('built', 'VERB'), ('*-1', 'X'), ('.', '.'), ('Also', 'ADV'), (',', '.'), ('there', 'DET'), ('has', 'VERB'), ('been', 'VERB'), ('a', 'DET'), ('switch', 'NOUN'), ('*ICH*-3', 'X'), ('in', 'ADP'), ('the', 'DET'), ('past', 'ADJ'), ('decade', 'NOUN'), ('to', 'PRT'), ('planting', 'DET'), ('of', 'ADP'), ('orange', 'DET'), ('trees', 'DET'), ('in', 'ADP'), ('areas', 'NOUN'), ('that', 'ADP'), ('*T*-5', 'X'), ('were', 'VERB'), ('previously', 'ADV'), ('used', 'VERB'), ('*-1', 'X'), ('for', 'ADP'), ('cane', 'DET'), (',', '.'), ('and', 'CONJ'), ('this', 'DET'), ('change', 'NOUN'), ('is', 'VERB'), ('being', 'VERB'), ('felt', 'VERB'), ('*-4', 'X'), ('now', 'ADV'), (',', '.'), ('she', 'PRON'), ('said', 'VERB'), ('0', 'X'), ('*T*-2', 'X'), ('.', '.'), ('Thus', 'ADV'), (',', '.'), ('an', 'DET'), ('institution', 'NOUN'), ('obligated', 'VERB'), ('*', 'X'), ('to', 'PRT'), ('make', 'VERB'), ('fixed-rate', 'ADJ'), ('interest', 'NOUN'), ('payments', 'NOUN'), ('on', 'ADP'), ('debt', 'NOUN'), ('swaps', 'NOUN'), ('the', 'DET'), ('payments', 'NOUN'), ('with', 'ADP'), ('another', 'DET'), ('making', 'VERB'), ('floating-rate', 'ADJ'), ('payments', 'NOUN'), ('.', '.'), ('New', 'NOUN'), ('rules', 'NOUN'), ('force', 'NOUN'), ('thrifts', 'NOUN'), ('to', 'PRT'), ('write', 'VERB'), ('down', 'ADV'), ('their', 'PRON'), ('junk', 'NOUN'), ('to', 'PRT'), ('market', 'NOUN'), ('value', 'NOUN'), (',', '.'), ('then', 'ADV'), ('sell', 'VERB'), ('the', 'DET'), ('bonds', 'NOUN'), ('over', 'ADP'), ('five', 'NUM'), ('years', 'NOUN'), ('.', '.'), ('In', 'ADP'), ('addition', 'NOUN'), (',', '.'), ('it', 'PRON'), ('is', 'VERB'), ('believed', 'VERB'), ('*-1', 'X'), ('to', 'PRT'), ('offer', 'NOUN'), ('a', 'DET'), ('cost-sharing', 'NOUN'), ('mechanism', 'NOUN'), ('that', 'ADP'), ('*T*-2', 'X'), ('would', 'VERB'), ('help', 'VERB'), ('*-3', 'X'), ('subsidize', 'DET'), ('the', 'DET'), ('clean-up', 'DET'), ('costs', 'NOUN'), ('for', 'ADP'), ('the', 'DET'), ('dirtiest', 'ADJ'), ('coal-fired', 'DET'), ('utilities', 'NOUN'), ('in', 'ADP'), ('the', 'DET'), ('country', 'NOUN'), (',', '.'), ('*-3', 'X'), ('sparing', 'DET'), ('their', 'PRON'), ('customers', 'NOUN'), ('from', 'ADP'), ('exorbitant', 'DET'), ('jumps', 'DET'), ('in', 'ADP'), ('their', 'PRON'), ('electric', 'ADJ'), ('bills', 'NOUN'), ('.', '.'), ('*-1', 'X'), ('Observing', 'DET'), ('that', 'ADP'), ('the', 'DET'), ('judge', 'NOUN'), ('``', '.'), ('has', 'VERB'), ('never', 'ADV'), ('exhibited', 'DET'), ('any', 'DET'), ('bias', 'NOUN'), ('or', 'CONJ'), ('prejudice', 'DET'), (',', '.'), (\"''\", '.'), ('Mr.', 'NOUN'), ('Murray', 'NOUN'), ('concluded', 'VERB'), ('that', 'ADP'), ('he', 'PRON'), ('``', '.'), ('would', 'VERB'), ('be', 'VERB'), ('impartial', 'DET'), ('in', 'ADP'), ('any', 'DET'), ('case', 'NOUN'), ('involving', 'VERB'), ('a', 'DET'), ('homosexual', 'ADJ'), ('or', 'CONJ'), ('prostitute', 'DET'), (\"''\", '.'), ('as', 'ADP'), ('a', 'DET'), ('victim', 'NOUN'), ('.', '.'), ('For', 'ADP'), ('fiscal', 'ADJ'), ('1989', 'NUM'), (\"'s\", 'PRT'), ('fourth', 'ADJ'), ('quarter', 'NOUN'), (',', '.'), ('Rockwell', 'NOUN'), (\"'s\", 'PRT'), ('net', 'ADJ'), ('income', 'NOUN'), ('totaled', 'VERB'), ('$', '.'), ('126.1', 'DET'), ('million', 'NUM'), ('*U*', 'X'), (',', '.'), ('or', 'CONJ'), ('50', 'NUM'), ('cents', 'NOUN'), ('a', 'DET'), ('share', 'NOUN'), ('.', '.'), ('The', 'DET'), ('purchasing', 'NOUN'), ('managers', 'NOUN'), (\"'\", 'PRT'), ('report', 'NOUN'), ('is', 'VERB'), ('based', 'VERB'), ('*-56', 'X'), ('on', 'ADP'), ('data', 'NOUN'), ('provided', 'VERB'), ('*', 'X'), ('by', 'ADP'), ('more', 'ADJ'), ('than', 'ADP'), ('250', 'NUM'), ('purchasing', 'NOUN'), ('executives', 'NOUN'), ('.', '.')]\n"
     ]
    }
   ],
   "source": [
    "print(test_tagged_seq)"
   ]
  },
  {
   "cell_type": "code",
   "execution_count": null,
   "metadata": {
    "id": "K45uANctnHeU"
   },
   "outputs": [],
   "source": []
  }
 ],
 "metadata": {
  "colab": {
   "collapsed_sections": [],
   "name": "人工智慧學校_Lab1-2_solution.ipynb",
   "provenance": []
  },
  "gpuClass": "standard",
  "kernelspec": {
   "display_name": "Python 3",
   "language": "python",
   "name": "python3"
  },
  "language_info": {
   "codemirror_mode": {
    "name": "ipython",
    "version": 3
   },
   "file_extension": ".py",
   "mimetype": "text/x-python",
   "name": "python",
   "nbconvert_exporter": "python",
   "pygments_lexer": "ipython3",
   "version": "3.8.5"
  }
 },
 "nbformat": 4,
 "nbformat_minor": 1
}
